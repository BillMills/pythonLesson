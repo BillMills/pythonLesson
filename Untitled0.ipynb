{
 "metadata": {
  "name": "",
  "signature": "sha256:16c28afe1f7a28c9c20b103c6f0cdc5d94a77ee7942c760212d62b2fa18210cb"
 },
 "nbformat": 3,
 "nbformat_minor": 0,
 "worksheets": [
  {
   "cells": [
    {
     "cell_type": "code",
     "collapsed": false,
     "input": [
      "def matchQuality(seq1, seq2):\n",
      "    '''\n",
      "    Inputs: seq1 and seq2 are strings describing matched genome reads\n",
      "    Return: score describing the quality of the match, based on:\n",
      "    \n",
      "    +1 for every matching pair of characters\n",
      "    -1 for every mismatch\n",
      "    +0 anytime there is a gap, represented by -\n",
      "    '''\n",
      "    \n",
      "    score = 0\n",
      "    \n",
      "    for i in range(len(seq1)):\n",
      "        if seq1[i] == seq2[i]:\n",
      "            score = score +1\n",
      "        elif seq1[i] == '-' or seq2[i] == '-':\n",
      "            score = score\n",
      "        else:\n",
      "            score = score -1\n",
      "            \n",
      "    return score"
     ],
     "language": "python",
     "metadata": {},
     "outputs": [],
     "prompt_number": 1
    },
    {
     "cell_type": "code",
     "collapsed": false,
     "input": [
      "print matchQuality('AAGT', 'AAGT')"
     ],
     "language": "python",
     "metadata": {},
     "outputs": [
      {
       "output_type": "stream",
       "stream": "stdout",
       "text": [
        "4\n"
       ]
      }
     ],
     "prompt_number": 2
    },
    {
     "cell_type": "code",
     "collapsed": false,
     "input": [
      "print match"
     ],
     "language": "python",
     "metadata": {},
     "outputs": []
    }
   ],
   "metadata": {}
  }
 ]
}
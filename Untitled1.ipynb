{
 "metadata": {
  "name": "",
  "signature": "sha256:e95f8dc77d6add95aeeca373595077de562ced67a0454e2f90f8ffcc7c28b03d"
 },
 "nbformat": 3,
 "nbformat_minor": 0,
 "worksheets": [
  {
   "cells": [
    {
     "cell_type": "code",
     "collapsed": false,
     "input": [
      "import sequenceTools.scoring"
     ],
     "language": "python",
     "metadata": {},
     "outputs": [],
     "prompt_number": 1
    },
    {
     "cell_type": "code",
     "collapsed": false,
     "input": [
      "sequenceTools.scoring.matchQuality('AAGT', 'AAGT')"
     ],
     "language": "python",
     "metadata": {},
     "outputs": [
      {
       "metadata": {},
       "output_type": "pyout",
       "prompt_number": 2,
       "text": [
        "4"
       ]
      }
     ],
     "prompt_number": 2
    },
    {
     "cell_type": "code",
     "collapsed": false,
     "input": [
      "dir(sequenceTools.scoring)"
     ],
     "language": "python",
     "metadata": {},
     "outputs": [
      {
       "metadata": {},
       "output_type": "pyout",
       "prompt_number": 3,
       "text": [
        "['__builtins__',\n",
        " '__doc__',\n",
        " '__file__',\n",
        " '__name__',\n",
        " '__package__',\n",
        " 'matchQuality']"
       ]
      }
     ],
     "prompt_number": 3
    },
    {
     "cell_type": "code",
     "collapsed": false,
     "input": [
      "help(sequenceTools.scoring.matchQuality)"
     ],
     "language": "python",
     "metadata": {},
     "outputs": [
      {
       "output_type": "stream",
       "stream": "stdout",
       "text": [
        "Help on function matchQuality in module sequenceTools.scoring:\n",
        "\n",
        "matchQuality(seq1, seq2)\n",
        "    Inputs: seq1 and seq2 are strings describing matched genome reads\n",
        "    Return: score describing the quality of the match, based on:\n",
        "    \n",
        "    +1 for every matching pair of characters\n",
        "    -1 for every mismatch\n",
        "    +0 anytime there is a gap, represented by -\n",
        "\n"
       ]
      }
     ],
     "prompt_number": 4
    },
    {
     "cell_type": "code",
     "collapsed": false,
     "input": [
      "def reverseComplement(sequence):\n",
      "    '''\n",
      "    reverse charcters in string, and replace\n",
      "    A with T and G with C\n",
      "    '''\n",
      "    \n",
      "    rev = sequence[::-1]\n",
      "    answer = ''\n",
      "    \n",
      "    for i in range(len(rev)):\n",
      "        if rev[i] == 'G':\n",
      "            answer = answer + 'C'\n",
      "        elif rev[i] == 'C':\n",
      "            answer = answer + 'G'\n",
      "        elif rev[i] == 'A':\n",
      "            answer = answer + 'T'\n",
      "        elif rev[i] == 'T':\n",
      "            answer = answer + 'A'\n",
      "    \n",
      "    return answer"
     ],
     "language": "python",
     "metadata": {},
     "outputs": [],
     "prompt_number": 14
    },
    {
     "cell_type": "code",
     "collapsed": false,
     "input": [
      "reverseComplement('AATTGG')"
     ],
     "language": "python",
     "metadata": {},
     "outputs": [
      {
       "metadata": {},
       "output_type": "pyout",
       "prompt_number": 15,
       "text": [
        "'CCAATT'"
       ]
      }
     ],
     "prompt_number": 15
    },
    {
     "cell_type": "code",
     "collapsed": false,
     "input": [
      "del reverseComplement"
     ],
     "language": "python",
     "metadata": {},
     "outputs": [],
     "prompt_number": 12
    },
    {
     "cell_type": "code",
     "collapsed": false,
     "input": [],
     "language": "python",
     "metadata": {},
     "outputs": []
    }
   ],
   "metadata": {}
  }
 ]
}